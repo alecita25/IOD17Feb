{
 "cells": [
  {
   "cell_type": "markdown",
   "metadata": {
    "id": "UYvQOebqLcfM"
   },
   "source": [
    "<div>\n",
    "<img src=https://www.institutedata.com/wp-content/uploads/2019/10/iod_h_tp_primary_c.svg width=\"300\">\n",
    "</div>"
   ]
  },
  {
   "cell_type": "markdown",
   "metadata": {
    "id": "1JWvLBewLcfP"
   },
   "source": [
    "# Lab 8.3: Sentiment Analysis\n",
    "\n",
    "This lab performs sentiment analysis on sentiment-labelled sentences using two types of feature extraction - a count vectoriser and TF-IDF vectoriser."
   ]
  },
  {
   "cell_type": "markdown",
   "metadata": {
    "id": "HbhmKC6NLcfS"
   },
   "source": [
    "Based on the video tutorial **Text Classification with Machine Learning,SpaCy and Scikit(Sentiment Analysis)** by **Jesse E. Agbe (JCharis)**."
   ]
  },
  {
   "cell_type": "markdown",
   "metadata": {
    "id": "NnuAMgbhLcfV"
   },
   "source": [
    "## Data Source: UCI\n",
    "### UCI - Machine Learning Repository\n",
    "- Center for Machine Learning and Intelligent Systems\n",
    "\n",
    "The [**UCI Machine Learning Repository**](http://archive.ics.uci.edu/about) is a collection of databases, domain theories, and data generators that are used by the machine learning community for the empirical analysis of machine learning algorithms.\n",
    "\n",
    "### Dataset\n",
    "- [Sentiment Labelled Sentences Data Set](http://archive.ics.uci.edu/ml/datasets/Sentiment+Labelled+Sentences)\n",
    "\n",
    "### Abstract\n",
    "The dataset contains sentences labelled with positive or negative sentiment.\n",
    "\n",
    "- Data Set Characteristics: Text\n",
    "- Number of Instances: 3000\n",
    "- Area: N/A\n",
    "- Attribute Characteristics: N/A\n",
    "- Number of Attributes: N/A\n",
    "- Date Donated: 2015-05-30\n",
    "- Associated Tasks: Classification\n",
    "- Missing Values? N/A\n",
    "\n",
    "### Source\n",
    "Dimitrios Kotzias dkotzias '@' ics.uci.edu\n",
    "\n",
    "### Data Set Information\n",
    "This dataset was created for the Paper 'From Group to Individual Labels using Deep Features', Kotzias et. al,. KDD 2015\n",
    "\n",
    "Please cite the paper if you want to use it :)\n",
    "\n",
    "It contains sentences labelled with positive or negative sentiment.\n",
    "\n",
    "### Format\n",
    "sentence &lt;tab&gt; score &lt;newline&gt;\n",
    "\n",
    "### Details\n",
    "Score is either 1 (for positive) or 0 (for negative)\n",
    "\n",
    "The sentences come from three different websites/fields:\n",
    "- imdb.com\n",
    "- amazon.com\n",
    "- yelp.com\n",
    "\n",
    "For each website, there exist **500 positive** and **500 negative** sentences. Those were selected randomly for larger datasets of reviews.\n",
    "\n",
    "We attempted to select sentences that have a clearly positive or negative connotation, the goal was for no neutral sentences to be selected.\n",
    "\n",
    "For the full datasets look:\n",
    "\n",
    "- **imdb**: Maas et. al., 2011 _Learning word vectors for sentiment analysis_\n",
    "- **amazon**: McAuley et. al., 2013 _Hidden factors and hidden topics: Understanding rating dimensions with review text_\n",
    "- **yelp**: [Yelp dataset challenge](http://www.yelp.com/dataset_challenge)\n",
    "\n",
    "\n",
    "### Attribute Information\n",
    "The attributes are text sentences, extracted from reviews of products, movies, and restaurants\n",
    "\n",
    "### Relevant Papers\n",
    "**From Group to Individual Labels using Deep Features**, Kotzias et. al,. KDD 2015\n",
    "\n",
    "### Citation Request\n",
    "**From Group to Individual Labels using Deep Features**, Kotzias et. al,. KDD 2015"
   ]
  },
  {
   "cell_type": "markdown",
   "metadata": {
    "id": "abNvVWdlLcfW"
   },
   "source": [
    "## Import libraries"
   ]
  },
  {
   "cell_type": "code",
   "execution_count": 1,
   "metadata": {
    "ExecuteTime": {
     "end_time": "2019-06-17T01:27:26.865620Z",
     "start_time": "2019-06-17T01:27:24.368522Z"
    },
    "id": "4BJWjM0zLcfZ"
   },
   "outputs": [],
   "source": [
    "## Import Libraries\n",
    "import pandas as pd\n",
    "\n",
    "import regex as re\n",
    "import spacy\n",
    "\n",
    "%matplotlib inline\n",
    "import matplotlib.pyplot as plt\n",
    "import matplotlib.gridspec as gridspec\n",
    "import seaborn as sns\n",
    "\n",
    "from sklearn.feature_extraction.text import CountVectorizer\n",
    "from sklearn.feature_extraction.text import TfidfVectorizer\n",
    "\n",
    "from sklearn.model_selection import train_test_split\n",
    "\n",
    "from sklearn.svm import SVC\n",
    "\n",
    "from sklearn.metrics import confusion_matrix\n",
    "from sklearn.metrics import accuracy_score\n",
    "from sklearn.metrics import precision_score\n",
    "from sklearn.metrics import recall_score\n",
    "from sklearn.metrics import average_precision_score\n",
    "from sklearn.metrics import roc_auc_score\n",
    "from sklearn.metrics import precision_recall_curve\n",
    "from sklearn.metrics import roc_curve\n",
    "from sklearn.metrics import auc\n",
    "\n",
    "import warnings\n",
    "warnings.filterwarnings('ignore')"
   ]
  },
  {
   "cell_type": "markdown",
   "metadata": {
    "id": "Dzzk6JdcLcfh"
   },
   "source": [
    "## Load data\n",
    "\n",
    "Load Yelp, Amazon and Imdb Data into dataframes. Create three column names 'text', 'sentiment' and 'source' (equal to one of 'yelp', 'imdb' or 'amazon' for each dataframe).\n",
    "\n",
    "Hint: Source is separated by tabs and has no headers."
   ]
  },
  {
   "cell_type": "code",
   "execution_count": 2,
   "metadata": {
    "ExecuteTime": {
     "end_time": "2019-06-17T01:29:38.157718Z",
     "start_time": "2019-06-17T01:29:38.152747Z"
    },
    "id": "GZUWhcCuLcfi"
   },
   "outputs": [],
   "source": [
    "yelp_text = 'yelp_labelled.txt'\n",
    "imdb_text = 'imdb_labelled_fixed.txt'\n",
    "amazon_text = 'amazon_cells_labelled.txt'\n",
    "\n",
    "# ANSWER\n",
    "dyelp = pd.read_csv('yelp_labelled.txt', header = None, sep = '\\t')\n",
    "dimdb = pd.read_csv('imdb_labelled_fixed.txt', header = None, sep = '\\t') \n",
    "damazon = pd.read_csv('amazon_cells_labelled.txt', header = None, sep = '\\t')\n",
    "df_s = {'yelp': dyelp, 'imdb': dimdb, 'amazon': damazon}"
   ]
  },
  {
   "cell_type": "markdown",
   "metadata": {
    "id": "pwa3MBrwLcfo"
   },
   "source": [
    "## Inspect the data\n",
    "\n",
    "Check your datasets."
   ]
  },
  {
   "cell_type": "code",
   "execution_count": 4,
   "metadata": {
    "ExecuteTime": {
     "end_time": "2019-06-17T01:30:01.495935Z",
     "start_time": "2019-06-17T01:30:01.492941Z"
    },
    "id": "NddGh-EQLcfq"
   },
   "outputs": [
    {
     "name": "stdout",
     "output_type": "stream",
     "text": [
      "Dataset: yelp [1000 row(s) x 2 col(s)]\n",
      "                                                text  sentiment source\n",
      "0                           Wow... Loved this place.          1   yelp\n",
      "1                                 Crust is not good.          0   yelp\n",
      "2          Not tasty and the texture was just nasty.          0   yelp\n",
      "3  Stopped by during the late May bank holiday of...          1   yelp\n",
      "4  The selection on the menu was great and so wer...          1   yelp\n",
      "---------------------------------------------------------------------------\n",
      "Dataset: imdb [1000 row(s) x 2 col(s)]\n",
      "                                                text  sentiment source\n",
      "0  A very, very, very slow-moving, aimless movie ...          0   imdb\n",
      "1  Not sure who was more lost - the flat characte...          0   imdb\n",
      "2  Attempting artiness with black & white and cle...          0   imdb\n",
      "3       Very little music or anything to speak of.            0   imdb\n",
      "4  The best scene in the movie was when Gerardo i...          1   imdb\n",
      "---------------------------------------------------------------------------\n",
      "Dataset: amazon [1000 row(s) x 2 col(s)]\n",
      "                                                text  sentiment  source\n",
      "0  So there is no way for me to plug it in here i...          0  amazon\n",
      "1                        Good case, Excellent value.          1  amazon\n",
      "2                             Great for the jawbone.          1  amazon\n",
      "3  Tied to charger for conversations lasting more...          0  amazon\n",
      "4                                  The mic is great.          1  amazon\n",
      "---------------------------------------------------------------------------\n"
     ]
    }
   ],
   "source": [
    "# ANSWER\n",
    "for ds in df_s.keys():\n",
    "    print('Dataset: %s [%d row(s) x %d col(s)]' % (ds, df_s[ds].shape[0], df_s[ds].shape[1]))\n",
    "    df_s[ds].columns = ['text', 'sentiment']\n",
    "    df_s[ds]['source'] = ds\n",
    "    print(df_s[ds].head())\n",
    "    print('-' * 75)"
   ]
  },
  {
   "cell_type": "markdown",
   "metadata": {
    "id": "meEtfGfELcf4"
   },
   "source": [
    "## Merge the data\n",
    "\n",
    "Merge all three datasets."
   ]
  },
  {
   "cell_type": "code",
   "execution_count": 10,
   "metadata": {
    "ExecuteTime": {
     "end_time": "2019-06-17T01:30:37.302897Z",
     "start_time": "2019-06-17T01:30:37.299903Z"
    },
    "id": "WVpAx-HHcbwn",
    "outputId": "474633c5-4101-4a38-af3c-e2141f0bfecd"
   },
   "outputs": [],
   "source": [
    "# ANSWER\n",
    "dfs = pd.concat(df_s.values(), ignore_index = True)"
   ]
  },
  {
   "cell_type": "code",
   "execution_count": 12,
   "metadata": {},
   "outputs": [
    {
     "name": "stdout",
     "output_type": "stream",
     "text": [
      "Dataset: All [3000 row(s) x 3 col(s)]\n",
      "\n",
      "<class 'pandas.core.frame.DataFrame'>\n",
      "RangeIndex: 3000 entries, 0 to 2999\n",
      "Data columns (total 3 columns):\n",
      " #   Column     Non-Null Count  Dtype \n",
      "---  ------     --------------  ----- \n",
      " 0   text       3000 non-null   object\n",
      " 1   sentiment  3000 non-null   int64 \n",
      " 2   source     3000 non-null   object\n",
      "dtypes: int64(1), object(2)\n",
      "memory usage: 70.4+ KB\n",
      "None\n",
      "                                                   text  sentiment  source\n",
      "1824  Mark my words, this is one of those cult films...          1    imdb\n",
      "2484                                I love this phone!.          1  amazon\n",
      "2118                       It has been a winner for us.          1  amazon\n",
      "115                                       Check it out.          1    yelp\n",
      "233   Ordered a double cheeseburger & got a single p...          0    yelp\n",
      "2416                An Awesome New Look For Fall 2000!.          1  amazon\n",
      "1996  Unfortunately, any virtue in this film's produ...          0    imdb\n",
      "2412                        Jawbone Era is awesome too!          1  amazon\n",
      "2450  i'm glad i found this product on amazon it is ...          1  amazon\n",
      "2288                           Poorly contstruct hinge.          0  amazon\n",
      "---------------------------------------------------------------------------\n"
     ]
    }
   ],
   "source": [
    "print('Dataset: %s [%d row(s) x %d col(s)]\\n' % ('All', dfs.shape[0], dfs.shape[1]))\n",
    "print(dfs.info())\n",
    "print(dfs.sample(10))\n",
    "print('-' * 75)"
   ]
  },
  {
   "cell_type": "code",
   "execution_count": 14,
   "metadata": {},
   "outputs": [
    {
     "data": {
      "text/plain": [
       "(3000, 3)"
      ]
     },
     "execution_count": 14,
     "metadata": {},
     "output_type": "execute_result"
    }
   ],
   "source": [
    "dfs.shape"
   ]
  },
  {
   "cell_type": "code",
   "execution_count": 16,
   "metadata": {},
   "outputs": [
    {
     "name": "stdout",
     "output_type": "stream",
     "text": [
      "Index(['text', 'sentiment', 'source'], dtype='object')\n"
     ]
    }
   ],
   "source": [
    "print(dfs.columns)"
   ]
  },
  {
   "cell_type": "code",
   "execution_count": 18,
   "metadata": {},
   "outputs": [
    {
     "data": {
      "text/html": [
       "<div>\n",
       "<style scoped>\n",
       "    .dataframe tbody tr th:only-of-type {\n",
       "        vertical-align: middle;\n",
       "    }\n",
       "\n",
       "    .dataframe tbody tr th {\n",
       "        vertical-align: top;\n",
       "    }\n",
       "\n",
       "    .dataframe thead th {\n",
       "        text-align: right;\n",
       "    }\n",
       "</style>\n",
       "<table border=\"1\" class=\"dataframe\">\n",
       "  <thead>\n",
       "    <tr style=\"text-align: right;\">\n",
       "      <th></th>\n",
       "      <th>text</th>\n",
       "      <th>sentiment</th>\n",
       "      <th>source</th>\n",
       "    </tr>\n",
       "  </thead>\n",
       "  <tbody>\n",
       "    <tr>\n",
       "      <th>0</th>\n",
       "      <td>Wow... Loved this place.</td>\n",
       "      <td>1</td>\n",
       "      <td>yelp</td>\n",
       "    </tr>\n",
       "    <tr>\n",
       "      <th>1</th>\n",
       "      <td>Crust is not good.</td>\n",
       "      <td>0</td>\n",
       "      <td>yelp</td>\n",
       "    </tr>\n",
       "    <tr>\n",
       "      <th>2</th>\n",
       "      <td>Not tasty and the texture was just nasty.</td>\n",
       "      <td>0</td>\n",
       "      <td>yelp</td>\n",
       "    </tr>\n",
       "    <tr>\n",
       "      <th>3</th>\n",
       "      <td>Stopped by during the late May bank holiday of...</td>\n",
       "      <td>1</td>\n",
       "      <td>yelp</td>\n",
       "    </tr>\n",
       "    <tr>\n",
       "      <th>4</th>\n",
       "      <td>The selection on the menu was great and so wer...</td>\n",
       "      <td>1</td>\n",
       "      <td>yelp</td>\n",
       "    </tr>\n",
       "  </tbody>\n",
       "</table>\n",
       "</div>"
      ],
      "text/plain": [
       "                                                text  sentiment source\n",
       "0                           Wow... Loved this place.          1   yelp\n",
       "1                                 Crust is not good.          0   yelp\n",
       "2          Not tasty and the texture was just nasty.          0   yelp\n",
       "3  Stopped by during the late May bank holiday of...          1   yelp\n",
       "4  The selection on the menu was great and so wer...          1   yelp"
      ]
     },
     "execution_count": 18,
     "metadata": {},
     "output_type": "execute_result"
    }
   ],
   "source": [
    "dfs.head()"
   ]
  },
  {
   "cell_type": "markdown",
   "metadata": {
    "id": "bzA4FQsPLcgA"
   },
   "source": [
    "## Prepare the stage\n",
    "- Load spaCy"
   ]
  },
  {
   "cell_type": "code",
   "execution_count": 20,
   "metadata": {
    "ExecuteTime": {
     "end_time": "2019-06-17T01:31:19.686599Z",
     "start_time": "2019-06-17T01:31:18.952239Z"
    },
    "id": "wVMTSDYQLcgB"
   },
   "outputs": [],
   "source": [
    "nlp = spacy.load('en_core_web_sm')"
   ]
  },
  {
   "cell_type": "markdown",
   "metadata": {
    "id": "YguMrtDuLcgD"
   },
   "source": [
    "## Prepare the text\n",
    "All the text handling and preparation concerned with the changes and modifications from the raw source text to a format that will be used for the actual processing, things like:\n",
    "- handle encoding\n",
    "- handle extraneous and international characters\n",
    "- handle symbols\n",
    "- handle metadata and embedded information\n",
    "- handle repetitions (such multiple spaces or newlines)\n",
    "\n",
    "Clean text."
   ]
  },
  {
   "cell_type": "code",
   "execution_count": 22,
   "metadata": {
    "ExecuteTime": {
     "end_time": "2019-06-17T01:31:31.608285Z",
     "start_time": "2019-06-17T01:31:31.601306Z"
    },
    "id": "GlsKSvonLcgD",
    "scrolled": true
   },
   "outputs": [],
   "source": [
    "def clean_text(text):\n",
    "    # reduce multiple spaces and newlines to only one\n",
    "    text = re.sub(r'(\\s\\s+|\\n\\n+)', r'\\1', text)\n",
    "    # remove double quotes\n",
    "    text = re.sub(r'\"', '', text)\n",
    "\n",
    "    return text"
   ]
  },
  {
   "cell_type": "code",
   "execution_count": 29,
   "metadata": {
    "ExecuteTime": {
     "end_time": "2019-06-17T01:32:56.768268Z",
     "start_time": "2019-06-17T01:32:56.765283Z"
    },
    "id": "upPa3YmmLcgF"
   },
   "outputs": [],
   "source": [
    "# Apply the clean_text function to your dataset.\n",
    "# ANSWER\n",
    "dfs['text'] = dfs['text'].apply(clean_text)"
   ]
  },
  {
   "cell_type": "markdown",
   "metadata": {
    "id": "za_6vt3MLcgH"
   },
   "source": [
    "## Work the text\n",
    "Using techniques learned in previous labs, remove StopWords, punctuation, and digits. Entities can be retained. Return the lemmatised form of any remaining words in lower case form.\n",
    "\n",
    "This removes meaningless information."
   ]
  },
  {
   "cell_type": "code",
   "execution_count": 31,
   "metadata": {
    "ExecuteTime": {
     "end_time": "2019-06-17T01:32:58.911623Z",
     "start_time": "2019-06-17T01:32:58.897659Z"
    },
    "id": "sh_uDWcCLcgI"
   },
   "outputs": [],
   "source": [
    "# Complete the function\n",
    "def convert_text(text):\n",
    "    sent = nlp(text)\n",
    "    ents = {x.text: x for x in sent.ents}\n",
    "    tokens = []\n",
    "    \n",
    "    for w in sent:\n",
    "        if w.is_stop or w.is_punct or w.is_digit:\n",
    "            continue\n",
    "        if w.text in ents:\n",
    "            tokens.append(w.text)\n",
    "        else:\n",
    "            tokens.append(w.lemma_.lower())\n",
    "    text = ' '.join(tokens)\n",
    "   \n",
    "    return text"
   ]
  },
  {
   "cell_type": "code",
   "execution_count": 35,
   "metadata": {
    "ExecuteTime": {
     "end_time": "2019-06-17T01:33:42.014624Z",
     "start_time": "2019-06-17T01:33:01.620538Z"
    },
    "id": "0vDv55U1LcgK",
    "outputId": "6ae31463-3509-4ea6-934a-6ea1ff1f6b6c"
   },
   "outputs": [
    {
     "name": "stdout",
     "output_type": "stream",
     "text": [
      "CPU times: user 24.2 s, sys: 495 ms, total: 24.7 s\n",
      "Wall time: 25.6 s\n"
     ]
    }
   ],
   "source": [
    "%%time\n",
    "dfs['short'] = dfs['text'].apply(convert_text)"
   ]
  },
  {
   "cell_type": "code",
   "execution_count": 74,
   "metadata": {
    "ExecuteTime": {
     "end_time": "2019-06-17T01:35:13.381487Z",
     "start_time": "2019-06-17T01:35:13.362526Z"
    },
    "id": "faiuJfunLcgM",
    "outputId": "67d67ec3-44c6-4315-ef42-7467f69494d5"
   },
   "outputs": [
    {
     "data": {
      "text/html": [
       "<div>\n",
       "<style scoped>\n",
       "    .dataframe tbody tr th:only-of-type {\n",
       "        vertical-align: middle;\n",
       "    }\n",
       "\n",
       "    .dataframe tbody tr th {\n",
       "        vertical-align: top;\n",
       "    }\n",
       "\n",
       "    .dataframe thead th {\n",
       "        text-align: right;\n",
       "    }\n",
       "</style>\n",
       "<table border=\"1\" class=\"dataframe\">\n",
       "  <thead>\n",
       "    <tr style=\"text-align: right;\">\n",
       "      <th></th>\n",
       "      <th>0</th>\n",
       "      <th>1</th>\n",
       "      <th>short</th>\n",
       "    </tr>\n",
       "  </thead>\n",
       "  <tbody>\n",
       "    <tr>\n",
       "      <th>2094</th>\n",
       "      <td>Dont waste your money...</td>\n",
       "      <td>0</td>\n",
       "      <td>not waste money</td>\n",
       "    </tr>\n",
       "    <tr>\n",
       "      <th>1648</th>\n",
       "      <td>This movie does an excellent job of revealing ...</td>\n",
       "      <td>1</td>\n",
       "      <td>movie excellent job reveal complexity task inc...</td>\n",
       "    </tr>\n",
       "    <tr>\n",
       "      <th>314</th>\n",
       "      <td>Great food for the price, which is very high q...</td>\n",
       "      <td>1</td>\n",
       "      <td>great food price high quality house</td>\n",
       "    </tr>\n",
       "    <tr>\n",
       "      <th>65</th>\n",
       "      <td>Great food and service, huge portions and they...</td>\n",
       "      <td>1</td>\n",
       "      <td>great food service huge portion military discount</td>\n",
       "    </tr>\n",
       "    <tr>\n",
       "      <th>1760</th>\n",
       "      <td>Technically, the film is well made with impres...</td>\n",
       "      <td>1</td>\n",
       "      <td>technically film impressive camera work solid ...</td>\n",
       "    </tr>\n",
       "    <tr>\n",
       "      <th>2909</th>\n",
       "      <td>Seller shipped quickly and much cheaper than t...</td>\n",
       "      <td>1</td>\n",
       "      <td>Seller ship quickly cheap competitor</td>\n",
       "    </tr>\n",
       "    <tr>\n",
       "      <th>769</th>\n",
       "      <td>* Both the Hot &amp; Sour &amp; the Egg Flower Soups w...</td>\n",
       "      <td>1</td>\n",
       "      <td>hot sour egg flower soups absolutely star</td>\n",
       "    </tr>\n",
       "    <tr>\n",
       "      <th>2385</th>\n",
       "      <td>The worst piece of crap ever along with the Ve...</td>\n",
       "      <td>0</td>\n",
       "      <td>bad piece crap Verizon customer service</td>\n",
       "    </tr>\n",
       "    <tr>\n",
       "      <th>2307</th>\n",
       "      <td>As many people complained, I found this headse...</td>\n",
       "      <td>0</td>\n",
       "      <td>people complain find headset microphone weak</td>\n",
       "    </tr>\n",
       "    <tr>\n",
       "      <th>1905</th>\n",
       "      <td>One of the most boring,pointless movies I have...</td>\n",
       "      <td>0</td>\n",
       "      <td>boring pointless movie see</td>\n",
       "    </tr>\n",
       "  </tbody>\n",
       "</table>\n",
       "</div>"
      ],
      "text/plain": [
       "                                                      0  1  \\\n",
       "2094                           Dont waste your money...  0   \n",
       "1648  This movie does an excellent job of revealing ...  1   \n",
       "314   Great food for the price, which is very high q...  1   \n",
       "65    Great food and service, huge portions and they...  1   \n",
       "1760  Technically, the film is well made with impres...  1   \n",
       "2909  Seller shipped quickly and much cheaper than t...  1   \n",
       "769   * Both the Hot & Sour & the Egg Flower Soups w...  1   \n",
       "2385  The worst piece of crap ever along with the Ve...  0   \n",
       "2307  As many people complained, I found this headse...  0   \n",
       "1905  One of the most boring,pointless movies I have...  0   \n",
       "\n",
       "                                                  short  \n",
       "2094                                    not waste money  \n",
       "1648  movie excellent job reveal complexity task inc...  \n",
       "314                 great food price high quality house  \n",
       "65    great food service huge portion military discount  \n",
       "1760  technically film impressive camera work solid ...  \n",
       "2909               Seller ship quickly cheap competitor  \n",
       "769           hot sour egg flower soups absolutely star  \n",
       "2385            bad piece crap Verizon customer service  \n",
       "2307       people complain find headset microphone weak  \n",
       "1905                       boring pointless movie see    "
      ]
     },
     "execution_count": 74,
     "metadata": {},
     "output_type": "execute_result"
    }
   ],
   "source": [
    "dfs.sample(10)"
   ]
  },
  {
   "cell_type": "markdown",
   "metadata": {
    "id": "TbwjijVyLcgP"
   },
   "source": [
    "## Split the dataset"
   ]
  },
  {
   "cell_type": "code",
   "execution_count": 42,
   "metadata": {
    "ExecuteTime": {
     "end_time": "2019-06-17T01:35:24.658233Z",
     "start_time": "2019-06-17T01:35:24.649227Z"
    },
    "id": "Hj2aoBqqLcgV"
   },
   "outputs": [],
   "source": [
    "# Features and Labels\n",
    "X = dfs['short']\n",
    "y = dfs['sentiment']\n",
    "\n",
    "# Apply a train-test split\n",
    "X_train, X_test, y_train, y_test = train_test_split(X, y, test_size = 0.2, random_state = 42)"
   ]
  },
  {
   "cell_type": "markdown",
   "metadata": {
    "id": "yr_VmeNMLcgY"
   },
   "source": [
    "## Create a Bag-of-Words Model"
   ]
  },
  {
   "cell_type": "code",
   "execution_count": 44,
   "metadata": {
    "ExecuteTime": {
     "end_time": "2019-06-17T01:35:32.373670Z",
     "start_time": "2019-06-17T01:35:32.369681Z"
    },
    "id": "Rhd__LD6LcgZ"
   },
   "outputs": [],
   "source": [
    "# create a matrix of word counts from the text\n",
    "counts = CountVectorizer()"
   ]
  },
  {
   "cell_type": "code",
   "execution_count": 46,
   "metadata": {
    "ExecuteTime": {
     "end_time": "2019-06-17T01:35:35.842101Z",
     "start_time": "2019-06-17T01:35:35.784219Z"
    },
    "id": "23CpVgPxLcgb"
   },
   "outputs": [],
   "source": [
    "# do the actual counting\n",
    "A = counts.fit_transform(X_train, y_train)"
   ]
  },
  {
   "cell_type": "code",
   "execution_count": 51,
   "metadata": {},
   "outputs": [
    {
     "data": {
      "text/html": [
       "<div>\n",
       "<style scoped>\n",
       "    .dataframe tbody tr th:only-of-type {\n",
       "        vertical-align: middle;\n",
       "    }\n",
       "\n",
       "    .dataframe tbody tr th {\n",
       "        vertical-align: top;\n",
       "    }\n",
       "\n",
       "    .dataframe thead th {\n",
       "        text-align: right;\n",
       "    }\n",
       "</style>\n",
       "<table border=\"1\" class=\"dataframe\">\n",
       "  <thead>\n",
       "    <tr style=\"text-align: right;\">\n",
       "      <th></th>\n",
       "      <th>00</th>\n",
       "      <th>10</th>\n",
       "      <th>11</th>\n",
       "      <th>13</th>\n",
       "      <th>15</th>\n",
       "      <th>15pm</th>\n",
       "      <th>17</th>\n",
       "      <th>20th</th>\n",
       "      <th>2mp</th>\n",
       "      <th>30</th>\n",
       "      <th>...</th>\n",
       "      <th>yucky</th>\n",
       "      <th>yukon</th>\n",
       "      <th>yum</th>\n",
       "      <th>yummy</th>\n",
       "      <th>yun</th>\n",
       "      <th>z500a</th>\n",
       "      <th>zero</th>\n",
       "      <th>zillion</th>\n",
       "      <th>zombie</th>\n",
       "      <th>zombiez</th>\n",
       "    </tr>\n",
       "  </thead>\n",
       "  <tbody>\n",
       "    <tr>\n",
       "      <th>0</th>\n",
       "      <td>0</td>\n",
       "      <td>0</td>\n",
       "      <td>0</td>\n",
       "      <td>0</td>\n",
       "      <td>0</td>\n",
       "      <td>0</td>\n",
       "      <td>0</td>\n",
       "      <td>0</td>\n",
       "      <td>0</td>\n",
       "      <td>0</td>\n",
       "      <td>...</td>\n",
       "      <td>0</td>\n",
       "      <td>0</td>\n",
       "      <td>0</td>\n",
       "      <td>0</td>\n",
       "      <td>0</td>\n",
       "      <td>0</td>\n",
       "      <td>0</td>\n",
       "      <td>0</td>\n",
       "      <td>0</td>\n",
       "      <td>0</td>\n",
       "    </tr>\n",
       "    <tr>\n",
       "      <th>1</th>\n",
       "      <td>0</td>\n",
       "      <td>0</td>\n",
       "      <td>0</td>\n",
       "      <td>0</td>\n",
       "      <td>0</td>\n",
       "      <td>0</td>\n",
       "      <td>0</td>\n",
       "      <td>0</td>\n",
       "      <td>0</td>\n",
       "      <td>0</td>\n",
       "      <td>...</td>\n",
       "      <td>0</td>\n",
       "      <td>0</td>\n",
       "      <td>0</td>\n",
       "      <td>0</td>\n",
       "      <td>0</td>\n",
       "      <td>0</td>\n",
       "      <td>0</td>\n",
       "      <td>0</td>\n",
       "      <td>0</td>\n",
       "      <td>0</td>\n",
       "    </tr>\n",
       "    <tr>\n",
       "      <th>2</th>\n",
       "      <td>0</td>\n",
       "      <td>0</td>\n",
       "      <td>0</td>\n",
       "      <td>0</td>\n",
       "      <td>0</td>\n",
       "      <td>0</td>\n",
       "      <td>0</td>\n",
       "      <td>0</td>\n",
       "      <td>0</td>\n",
       "      <td>0</td>\n",
       "      <td>...</td>\n",
       "      <td>0</td>\n",
       "      <td>0</td>\n",
       "      <td>0</td>\n",
       "      <td>0</td>\n",
       "      <td>0</td>\n",
       "      <td>0</td>\n",
       "      <td>0</td>\n",
       "      <td>0</td>\n",
       "      <td>0</td>\n",
       "      <td>0</td>\n",
       "    </tr>\n",
       "    <tr>\n",
       "      <th>3</th>\n",
       "      <td>0</td>\n",
       "      <td>0</td>\n",
       "      <td>0</td>\n",
       "      <td>0</td>\n",
       "      <td>0</td>\n",
       "      <td>0</td>\n",
       "      <td>0</td>\n",
       "      <td>0</td>\n",
       "      <td>0</td>\n",
       "      <td>0</td>\n",
       "      <td>...</td>\n",
       "      <td>0</td>\n",
       "      <td>0</td>\n",
       "      <td>0</td>\n",
       "      <td>0</td>\n",
       "      <td>0</td>\n",
       "      <td>0</td>\n",
       "      <td>0</td>\n",
       "      <td>0</td>\n",
       "      <td>0</td>\n",
       "      <td>0</td>\n",
       "    </tr>\n",
       "    <tr>\n",
       "      <th>4</th>\n",
       "      <td>0</td>\n",
       "      <td>0</td>\n",
       "      <td>0</td>\n",
       "      <td>0</td>\n",
       "      <td>0</td>\n",
       "      <td>0</td>\n",
       "      <td>0</td>\n",
       "      <td>0</td>\n",
       "      <td>0</td>\n",
       "      <td>0</td>\n",
       "      <td>...</td>\n",
       "      <td>0</td>\n",
       "      <td>0</td>\n",
       "      <td>0</td>\n",
       "      <td>0</td>\n",
       "      <td>0</td>\n",
       "      <td>0</td>\n",
       "      <td>0</td>\n",
       "      <td>0</td>\n",
       "      <td>0</td>\n",
       "      <td>0</td>\n",
       "    </tr>\n",
       "  </tbody>\n",
       "</table>\n",
       "<p>5 rows × 3570 columns</p>\n",
       "</div>"
      ],
      "text/plain": [
       "   00  10  11  13  15  15pm  17  20th  2mp  30  ...  yucky  yukon  yum  yummy  \\\n",
       "0   0   0   0   0   0     0   0     0    0   0  ...      0      0    0      0   \n",
       "1   0   0   0   0   0     0   0     0    0   0  ...      0      0    0      0   \n",
       "2   0   0   0   0   0     0   0     0    0   0  ...      0      0    0      0   \n",
       "3   0   0   0   0   0     0   0     0    0   0  ...      0      0    0      0   \n",
       "4   0   0   0   0   0     0   0     0    0   0  ...      0      0    0      0   \n",
       "\n",
       "   yun  z500a  zero  zillion  zombie  zombiez  \n",
       "0    0      0     0        0       0        0  \n",
       "1    0      0     0        0       0        0  \n",
       "2    0      0     0        0       0        0  \n",
       "3    0      0     0        0       0        0  \n",
       "4    0      0     0        0       0        0  \n",
       "\n",
       "[5 rows x 3570 columns]"
      ]
     },
     "execution_count": 51,
     "metadata": {},
     "output_type": "execute_result"
    }
   ],
   "source": [
    "pd.DataFrame(A.todense(), columns=counts.get_feature_names_out()).head()"
   ]
  },
  {
   "cell_type": "code",
   "execution_count": 53,
   "metadata": {
    "ExecuteTime": {
     "end_time": "2019-06-17T01:35:38.590493Z",
     "start_time": "2019-06-17T01:35:38.586469Z"
    },
    "id": "c_rue57RLcgd"
   },
   "outputs": [],
   "source": [
    "# create a classifier using SVC\n",
    "classifier = SVC(kernel='linear', probability=True)"
   ]
  },
  {
   "cell_type": "code",
   "execution_count": 55,
   "metadata": {
    "ExecuteTime": {
     "end_time": "2019-06-17T01:35:41.929126Z",
     "start_time": "2019-06-17T01:35:41.745617Z"
    },
    "id": "Lou4xDLmLcgh"
   },
   "outputs": [
    {
     "data": {
      "text/html": [
       "<style>#sk-container-id-1 {\n",
       "  /* Definition of color scheme common for light and dark mode */\n",
       "  --sklearn-color-text: black;\n",
       "  --sklearn-color-line: gray;\n",
       "  /* Definition of color scheme for unfitted estimators */\n",
       "  --sklearn-color-unfitted-level-0: #fff5e6;\n",
       "  --sklearn-color-unfitted-level-1: #f6e4d2;\n",
       "  --sklearn-color-unfitted-level-2: #ffe0b3;\n",
       "  --sklearn-color-unfitted-level-3: chocolate;\n",
       "  /* Definition of color scheme for fitted estimators */\n",
       "  --sklearn-color-fitted-level-0: #f0f8ff;\n",
       "  --sklearn-color-fitted-level-1: #d4ebff;\n",
       "  --sklearn-color-fitted-level-2: #b3dbfd;\n",
       "  --sklearn-color-fitted-level-3: cornflowerblue;\n",
       "\n",
       "  /* Specific color for light theme */\n",
       "  --sklearn-color-text-on-default-background: var(--sg-text-color, var(--theme-code-foreground, var(--jp-content-font-color1, black)));\n",
       "  --sklearn-color-background: var(--sg-background-color, var(--theme-background, var(--jp-layout-color0, white)));\n",
       "  --sklearn-color-border-box: var(--sg-text-color, var(--theme-code-foreground, var(--jp-content-font-color1, black)));\n",
       "  --sklearn-color-icon: #696969;\n",
       "\n",
       "  @media (prefers-color-scheme: dark) {\n",
       "    /* Redefinition of color scheme for dark theme */\n",
       "    --sklearn-color-text-on-default-background: var(--sg-text-color, var(--theme-code-foreground, var(--jp-content-font-color1, white)));\n",
       "    --sklearn-color-background: var(--sg-background-color, var(--theme-background, var(--jp-layout-color0, #111)));\n",
       "    --sklearn-color-border-box: var(--sg-text-color, var(--theme-code-foreground, var(--jp-content-font-color1, white)));\n",
       "    --sklearn-color-icon: #878787;\n",
       "  }\n",
       "}\n",
       "\n",
       "#sk-container-id-1 {\n",
       "  color: var(--sklearn-color-text);\n",
       "}\n",
       "\n",
       "#sk-container-id-1 pre {\n",
       "  padding: 0;\n",
       "}\n",
       "\n",
       "#sk-container-id-1 input.sk-hidden--visually {\n",
       "  border: 0;\n",
       "  clip: rect(1px 1px 1px 1px);\n",
       "  clip: rect(1px, 1px, 1px, 1px);\n",
       "  height: 1px;\n",
       "  margin: -1px;\n",
       "  overflow: hidden;\n",
       "  padding: 0;\n",
       "  position: absolute;\n",
       "  width: 1px;\n",
       "}\n",
       "\n",
       "#sk-container-id-1 div.sk-dashed-wrapped {\n",
       "  border: 1px dashed var(--sklearn-color-line);\n",
       "  margin: 0 0.4em 0.5em 0.4em;\n",
       "  box-sizing: border-box;\n",
       "  padding-bottom: 0.4em;\n",
       "  background-color: var(--sklearn-color-background);\n",
       "}\n",
       "\n",
       "#sk-container-id-1 div.sk-container {\n",
       "  /* jupyter's `normalize.less` sets `[hidden] { display: none; }`\n",
       "     but bootstrap.min.css set `[hidden] { display: none !important; }`\n",
       "     so we also need the `!important` here to be able to override the\n",
       "     default hidden behavior on the sphinx rendered scikit-learn.org.\n",
       "     See: https://github.com/scikit-learn/scikit-learn/issues/21755 */\n",
       "  display: inline-block !important;\n",
       "  position: relative;\n",
       "}\n",
       "\n",
       "#sk-container-id-1 div.sk-text-repr-fallback {\n",
       "  display: none;\n",
       "}\n",
       "\n",
       "div.sk-parallel-item,\n",
       "div.sk-serial,\n",
       "div.sk-item {\n",
       "  /* draw centered vertical line to link estimators */\n",
       "  background-image: linear-gradient(var(--sklearn-color-text-on-default-background), var(--sklearn-color-text-on-default-background));\n",
       "  background-size: 2px 100%;\n",
       "  background-repeat: no-repeat;\n",
       "  background-position: center center;\n",
       "}\n",
       "\n",
       "/* Parallel-specific style estimator block */\n",
       "\n",
       "#sk-container-id-1 div.sk-parallel-item::after {\n",
       "  content: \"\";\n",
       "  width: 100%;\n",
       "  border-bottom: 2px solid var(--sklearn-color-text-on-default-background);\n",
       "  flex-grow: 1;\n",
       "}\n",
       "\n",
       "#sk-container-id-1 div.sk-parallel {\n",
       "  display: flex;\n",
       "  align-items: stretch;\n",
       "  justify-content: center;\n",
       "  background-color: var(--sklearn-color-background);\n",
       "  position: relative;\n",
       "}\n",
       "\n",
       "#sk-container-id-1 div.sk-parallel-item {\n",
       "  display: flex;\n",
       "  flex-direction: column;\n",
       "}\n",
       "\n",
       "#sk-container-id-1 div.sk-parallel-item:first-child::after {\n",
       "  align-self: flex-end;\n",
       "  width: 50%;\n",
       "}\n",
       "\n",
       "#sk-container-id-1 div.sk-parallel-item:last-child::after {\n",
       "  align-self: flex-start;\n",
       "  width: 50%;\n",
       "}\n",
       "\n",
       "#sk-container-id-1 div.sk-parallel-item:only-child::after {\n",
       "  width: 0;\n",
       "}\n",
       "\n",
       "/* Serial-specific style estimator block */\n",
       "\n",
       "#sk-container-id-1 div.sk-serial {\n",
       "  display: flex;\n",
       "  flex-direction: column;\n",
       "  align-items: center;\n",
       "  background-color: var(--sklearn-color-background);\n",
       "  padding-right: 1em;\n",
       "  padding-left: 1em;\n",
       "}\n",
       "\n",
       "\n",
       "/* Toggleable style: style used for estimator/Pipeline/ColumnTransformer box that is\n",
       "clickable and can be expanded/collapsed.\n",
       "- Pipeline and ColumnTransformer use this feature and define the default style\n",
       "- Estimators will overwrite some part of the style using the `sk-estimator` class\n",
       "*/\n",
       "\n",
       "/* Pipeline and ColumnTransformer style (default) */\n",
       "\n",
       "#sk-container-id-1 div.sk-toggleable {\n",
       "  /* Default theme specific background. It is overwritten whether we have a\n",
       "  specific estimator or a Pipeline/ColumnTransformer */\n",
       "  background-color: var(--sklearn-color-background);\n",
       "}\n",
       "\n",
       "/* Toggleable label */\n",
       "#sk-container-id-1 label.sk-toggleable__label {\n",
       "  cursor: pointer;\n",
       "  display: block;\n",
       "  width: 100%;\n",
       "  margin-bottom: 0;\n",
       "  padding: 0.5em;\n",
       "  box-sizing: border-box;\n",
       "  text-align: center;\n",
       "}\n",
       "\n",
       "#sk-container-id-1 label.sk-toggleable__label-arrow:before {\n",
       "  /* Arrow on the left of the label */\n",
       "  content: \"▸\";\n",
       "  float: left;\n",
       "  margin-right: 0.25em;\n",
       "  color: var(--sklearn-color-icon);\n",
       "}\n",
       "\n",
       "#sk-container-id-1 label.sk-toggleable__label-arrow:hover:before {\n",
       "  color: var(--sklearn-color-text);\n",
       "}\n",
       "\n",
       "/* Toggleable content - dropdown */\n",
       "\n",
       "#sk-container-id-1 div.sk-toggleable__content {\n",
       "  max-height: 0;\n",
       "  max-width: 0;\n",
       "  overflow: hidden;\n",
       "  text-align: left;\n",
       "  /* unfitted */\n",
       "  background-color: var(--sklearn-color-unfitted-level-0);\n",
       "}\n",
       "\n",
       "#sk-container-id-1 div.sk-toggleable__content.fitted {\n",
       "  /* fitted */\n",
       "  background-color: var(--sklearn-color-fitted-level-0);\n",
       "}\n",
       "\n",
       "#sk-container-id-1 div.sk-toggleable__content pre {\n",
       "  margin: 0.2em;\n",
       "  border-radius: 0.25em;\n",
       "  color: var(--sklearn-color-text);\n",
       "  /* unfitted */\n",
       "  background-color: var(--sklearn-color-unfitted-level-0);\n",
       "}\n",
       "\n",
       "#sk-container-id-1 div.sk-toggleable__content.fitted pre {\n",
       "  /* unfitted */\n",
       "  background-color: var(--sklearn-color-fitted-level-0);\n",
       "}\n",
       "\n",
       "#sk-container-id-1 input.sk-toggleable__control:checked~div.sk-toggleable__content {\n",
       "  /* Expand drop-down */\n",
       "  max-height: 200px;\n",
       "  max-width: 100%;\n",
       "  overflow: auto;\n",
       "}\n",
       "\n",
       "#sk-container-id-1 input.sk-toggleable__control:checked~label.sk-toggleable__label-arrow:before {\n",
       "  content: \"▾\";\n",
       "}\n",
       "\n",
       "/* Pipeline/ColumnTransformer-specific style */\n",
       "\n",
       "#sk-container-id-1 div.sk-label input.sk-toggleable__control:checked~label.sk-toggleable__label {\n",
       "  color: var(--sklearn-color-text);\n",
       "  background-color: var(--sklearn-color-unfitted-level-2);\n",
       "}\n",
       "\n",
       "#sk-container-id-1 div.sk-label.fitted input.sk-toggleable__control:checked~label.sk-toggleable__label {\n",
       "  background-color: var(--sklearn-color-fitted-level-2);\n",
       "}\n",
       "\n",
       "/* Estimator-specific style */\n",
       "\n",
       "/* Colorize estimator box */\n",
       "#sk-container-id-1 div.sk-estimator input.sk-toggleable__control:checked~label.sk-toggleable__label {\n",
       "  /* unfitted */\n",
       "  background-color: var(--sklearn-color-unfitted-level-2);\n",
       "}\n",
       "\n",
       "#sk-container-id-1 div.sk-estimator.fitted input.sk-toggleable__control:checked~label.sk-toggleable__label {\n",
       "  /* fitted */\n",
       "  background-color: var(--sklearn-color-fitted-level-2);\n",
       "}\n",
       "\n",
       "#sk-container-id-1 div.sk-label label.sk-toggleable__label,\n",
       "#sk-container-id-1 div.sk-label label {\n",
       "  /* The background is the default theme color */\n",
       "  color: var(--sklearn-color-text-on-default-background);\n",
       "}\n",
       "\n",
       "/* On hover, darken the color of the background */\n",
       "#sk-container-id-1 div.sk-label:hover label.sk-toggleable__label {\n",
       "  color: var(--sklearn-color-text);\n",
       "  background-color: var(--sklearn-color-unfitted-level-2);\n",
       "}\n",
       "\n",
       "/* Label box, darken color on hover, fitted */\n",
       "#sk-container-id-1 div.sk-label.fitted:hover label.sk-toggleable__label.fitted {\n",
       "  color: var(--sklearn-color-text);\n",
       "  background-color: var(--sklearn-color-fitted-level-2);\n",
       "}\n",
       "\n",
       "/* Estimator label */\n",
       "\n",
       "#sk-container-id-1 div.sk-label label {\n",
       "  font-family: monospace;\n",
       "  font-weight: bold;\n",
       "  display: inline-block;\n",
       "  line-height: 1.2em;\n",
       "}\n",
       "\n",
       "#sk-container-id-1 div.sk-label-container {\n",
       "  text-align: center;\n",
       "}\n",
       "\n",
       "/* Estimator-specific */\n",
       "#sk-container-id-1 div.sk-estimator {\n",
       "  font-family: monospace;\n",
       "  border: 1px dotted var(--sklearn-color-border-box);\n",
       "  border-radius: 0.25em;\n",
       "  box-sizing: border-box;\n",
       "  margin-bottom: 0.5em;\n",
       "  /* unfitted */\n",
       "  background-color: var(--sklearn-color-unfitted-level-0);\n",
       "}\n",
       "\n",
       "#sk-container-id-1 div.sk-estimator.fitted {\n",
       "  /* fitted */\n",
       "  background-color: var(--sklearn-color-fitted-level-0);\n",
       "}\n",
       "\n",
       "/* on hover */\n",
       "#sk-container-id-1 div.sk-estimator:hover {\n",
       "  /* unfitted */\n",
       "  background-color: var(--sklearn-color-unfitted-level-2);\n",
       "}\n",
       "\n",
       "#sk-container-id-1 div.sk-estimator.fitted:hover {\n",
       "  /* fitted */\n",
       "  background-color: var(--sklearn-color-fitted-level-2);\n",
       "}\n",
       "\n",
       "/* Specification for estimator info (e.g. \"i\" and \"?\") */\n",
       "\n",
       "/* Common style for \"i\" and \"?\" */\n",
       "\n",
       ".sk-estimator-doc-link,\n",
       "a:link.sk-estimator-doc-link,\n",
       "a:visited.sk-estimator-doc-link {\n",
       "  float: right;\n",
       "  font-size: smaller;\n",
       "  line-height: 1em;\n",
       "  font-family: monospace;\n",
       "  background-color: var(--sklearn-color-background);\n",
       "  border-radius: 1em;\n",
       "  height: 1em;\n",
       "  width: 1em;\n",
       "  text-decoration: none !important;\n",
       "  margin-left: 1ex;\n",
       "  /* unfitted */\n",
       "  border: var(--sklearn-color-unfitted-level-1) 1pt solid;\n",
       "  color: var(--sklearn-color-unfitted-level-1);\n",
       "}\n",
       "\n",
       ".sk-estimator-doc-link.fitted,\n",
       "a:link.sk-estimator-doc-link.fitted,\n",
       "a:visited.sk-estimator-doc-link.fitted {\n",
       "  /* fitted */\n",
       "  border: var(--sklearn-color-fitted-level-1) 1pt solid;\n",
       "  color: var(--sklearn-color-fitted-level-1);\n",
       "}\n",
       "\n",
       "/* On hover */\n",
       "div.sk-estimator:hover .sk-estimator-doc-link:hover,\n",
       ".sk-estimator-doc-link:hover,\n",
       "div.sk-label-container:hover .sk-estimator-doc-link:hover,\n",
       ".sk-estimator-doc-link:hover {\n",
       "  /* unfitted */\n",
       "  background-color: var(--sklearn-color-unfitted-level-3);\n",
       "  color: var(--sklearn-color-background);\n",
       "  text-decoration: none;\n",
       "}\n",
       "\n",
       "div.sk-estimator.fitted:hover .sk-estimator-doc-link.fitted:hover,\n",
       ".sk-estimator-doc-link.fitted:hover,\n",
       "div.sk-label-container:hover .sk-estimator-doc-link.fitted:hover,\n",
       ".sk-estimator-doc-link.fitted:hover {\n",
       "  /* fitted */\n",
       "  background-color: var(--sklearn-color-fitted-level-3);\n",
       "  color: var(--sklearn-color-background);\n",
       "  text-decoration: none;\n",
       "}\n",
       "\n",
       "/* Span, style for the box shown on hovering the info icon */\n",
       ".sk-estimator-doc-link span {\n",
       "  display: none;\n",
       "  z-index: 9999;\n",
       "  position: relative;\n",
       "  font-weight: normal;\n",
       "  right: .2ex;\n",
       "  padding: .5ex;\n",
       "  margin: .5ex;\n",
       "  width: min-content;\n",
       "  min-width: 20ex;\n",
       "  max-width: 50ex;\n",
       "  color: var(--sklearn-color-text);\n",
       "  box-shadow: 2pt 2pt 4pt #999;\n",
       "  /* unfitted */\n",
       "  background: var(--sklearn-color-unfitted-level-0);\n",
       "  border: .5pt solid var(--sklearn-color-unfitted-level-3);\n",
       "}\n",
       "\n",
       ".sk-estimator-doc-link.fitted span {\n",
       "  /* fitted */\n",
       "  background: var(--sklearn-color-fitted-level-0);\n",
       "  border: var(--sklearn-color-fitted-level-3);\n",
       "}\n",
       "\n",
       ".sk-estimator-doc-link:hover span {\n",
       "  display: block;\n",
       "}\n",
       "\n",
       "/* \"?\"-specific style due to the `<a>` HTML tag */\n",
       "\n",
       "#sk-container-id-1 a.estimator_doc_link {\n",
       "  float: right;\n",
       "  font-size: 1rem;\n",
       "  line-height: 1em;\n",
       "  font-family: monospace;\n",
       "  background-color: var(--sklearn-color-background);\n",
       "  border-radius: 1rem;\n",
       "  height: 1rem;\n",
       "  width: 1rem;\n",
       "  text-decoration: none;\n",
       "  /* unfitted */\n",
       "  color: var(--sklearn-color-unfitted-level-1);\n",
       "  border: var(--sklearn-color-unfitted-level-1) 1pt solid;\n",
       "}\n",
       "\n",
       "#sk-container-id-1 a.estimator_doc_link.fitted {\n",
       "  /* fitted */\n",
       "  border: var(--sklearn-color-fitted-level-1) 1pt solid;\n",
       "  color: var(--sklearn-color-fitted-level-1);\n",
       "}\n",
       "\n",
       "/* On hover */\n",
       "#sk-container-id-1 a.estimator_doc_link:hover {\n",
       "  /* unfitted */\n",
       "  background-color: var(--sklearn-color-unfitted-level-3);\n",
       "  color: var(--sklearn-color-background);\n",
       "  text-decoration: none;\n",
       "}\n",
       "\n",
       "#sk-container-id-1 a.estimator_doc_link.fitted:hover {\n",
       "  /* fitted */\n",
       "  background-color: var(--sklearn-color-fitted-level-3);\n",
       "}\n",
       "</style><div id=\"sk-container-id-1\" class=\"sk-top-container\"><div class=\"sk-text-repr-fallback\"><pre>SVC(kernel=&#x27;linear&#x27;, probability=True)</pre><b>In a Jupyter environment, please rerun this cell to show the HTML representation or trust the notebook. <br />On GitHub, the HTML representation is unable to render, please try loading this page with nbviewer.org.</b></div><div class=\"sk-container\" hidden><div class=\"sk-item\"><div class=\"sk-estimator fitted sk-toggleable\"><input class=\"sk-toggleable__control sk-hidden--visually\" id=\"sk-estimator-id-1\" type=\"checkbox\" checked><label for=\"sk-estimator-id-1\" class=\"sk-toggleable__label fitted sk-toggleable__label-arrow fitted\">&nbsp;&nbsp;SVC<a class=\"sk-estimator-doc-link fitted\" rel=\"noreferrer\" target=\"_blank\" href=\"https://scikit-learn.org/1.5/modules/generated/sklearn.svm.SVC.html\">?<span>Documentation for SVC</span></a><span class=\"sk-estimator-doc-link fitted\">i<span>Fitted</span></span></label><div class=\"sk-toggleable__content fitted\"><pre>SVC(kernel=&#x27;linear&#x27;, probability=True)</pre></div> </div></div></div></div>"
      ],
      "text/plain": [
       "SVC(kernel='linear', probability=True)"
      ]
     },
     "execution_count": 55,
     "metadata": {},
     "output_type": "execute_result"
    }
   ],
   "source": [
    "# train the classifier with the training data\n",
    "classifier.fit(A, y_train)"
   ]
  },
  {
   "cell_type": "code",
   "execution_count": 57,
   "metadata": {
    "ExecuteTime": {
     "end_time": "2019-06-17T01:35:47.210207Z",
     "start_time": "2019-06-17T01:35:47.199250Z"
    },
    "id": "inkg1KTiLcgi"
   },
   "outputs": [],
   "source": [
    "# do the transformation for the test data\n",
    "# NOTE: use `transform()` instead of `fit_transform()`\n",
    "B = counts.transform(X_test)"
   ]
  },
  {
   "cell_type": "code",
   "execution_count": 59,
   "metadata": {
    "ExecuteTime": {
     "end_time": "2019-06-17T01:35:51.223067Z",
     "start_time": "2019-06-17T01:35:51.209096Z"
    },
    "id": "dg-HpdJ0Lcgk"
   },
   "outputs": [],
   "source": [
    "# make predictions based on the test data\n",
    "predictions = classifier.predict(B)\n",
    "\n",
    "# store probabilities of predictions being 1\n",
    "probabilities = classifier.predict_proba(B)[:, 1]"
   ]
  },
  {
   "cell_type": "code",
   "execution_count": 61,
   "metadata": {
    "ExecuteTime": {
     "end_time": "2019-06-17T01:35:54.779047Z",
     "start_time": "2019-06-17T01:35:54.771069Z"
    },
    "id": "t0HJn9qhLcgm",
    "outputId": "0bc7328f-ed1e-4259-e02f-981413ab8bc4"
   },
   "outputs": [
    {
     "name": "stdout",
     "output_type": "stream",
     "text": [
      "Accuracy: 0.7733\n"
     ]
    }
   ],
   "source": [
    "# check the accuracy\n",
    "print('Accuracy: %.4f' % accuracy_score(y_test, predictions))"
   ]
  },
  {
   "cell_type": "markdown",
   "metadata": {
    "id": "z-Ia6a8ULcgn"
   },
   "source": [
    "## Repeat using TF-IDF\n",
    "TF-IDF = Term Frequency - Inverse Document Frequency"
   ]
  },
  {
   "cell_type": "code",
   "execution_count": 63,
   "metadata": {
    "ExecuteTime": {
     "end_time": "2019-06-17T01:36:02.927008Z",
     "start_time": "2019-06-17T01:36:02.785387Z"
    },
    "id": "7Tg1dwSpLcgo",
    "outputId": "256d6cbb-663b-4f6d-daa6-c609c9ec18ad"
   },
   "outputs": [
    {
     "name": "stdout",
     "output_type": "stream",
     "text": [
      "Accuracy: 0.7800\n"
     ]
    }
   ],
   "source": [
    "# create a matrix of word counts from the text\n",
    "# use TF-IDF\n",
    "tfidf = TfidfVectorizer()\n",
    "# do the actual counting\n",
    "A = tfidf.fit_transform(X_train, y_train)\n",
    "\n",
    "# train the classifier with the training data\n",
    "classifier.fit(A, y_train)\n",
    "\n",
    "# do the transformation for the test data\n",
    "# NOTE: use `transform()` instead of `fit_transform()`\n",
    "B = tfidf.transform(X_test)\n",
    "\n",
    "# make predictions based on the test data\n",
    "predictions = classifier.predict(B)\n",
    "\n",
    "# store probabilities of predictions being 1\n",
    "probabilities = classifier.predict_proba(B)[:, 1]\n",
    "\n",
    "# check the accuracy\n",
    "print('Accuracy: %.4f' % accuracy_score(y_test, predictions))"
   ]
  },
  {
   "cell_type": "code",
   "execution_count": 66,
   "metadata": {},
   "outputs": [
    {
     "data": {
      "text/html": [
       "<div>\n",
       "<style scoped>\n",
       "    .dataframe tbody tr th:only-of-type {\n",
       "        vertical-align: middle;\n",
       "    }\n",
       "\n",
       "    .dataframe tbody tr th {\n",
       "        vertical-align: top;\n",
       "    }\n",
       "\n",
       "    .dataframe thead th {\n",
       "        text-align: right;\n",
       "    }\n",
       "</style>\n",
       "<table border=\"1\" class=\"dataframe\">\n",
       "  <thead>\n",
       "    <tr style=\"text-align: right;\">\n",
       "      <th></th>\n",
       "      <th>00</th>\n",
       "      <th>10</th>\n",
       "      <th>11</th>\n",
       "      <th>13</th>\n",
       "      <th>15</th>\n",
       "      <th>15pm</th>\n",
       "      <th>17</th>\n",
       "      <th>20th</th>\n",
       "      <th>2mp</th>\n",
       "      <th>30</th>\n",
       "      <th>...</th>\n",
       "      <th>yucky</th>\n",
       "      <th>yukon</th>\n",
       "      <th>yum</th>\n",
       "      <th>yummy</th>\n",
       "      <th>yun</th>\n",
       "      <th>z500a</th>\n",
       "      <th>zero</th>\n",
       "      <th>zillion</th>\n",
       "      <th>zombie</th>\n",
       "      <th>zombiez</th>\n",
       "    </tr>\n",
       "  </thead>\n",
       "  <tbody>\n",
       "    <tr>\n",
       "      <th>0</th>\n",
       "      <td>0.0</td>\n",
       "      <td>0.0</td>\n",
       "      <td>0.0</td>\n",
       "      <td>0.0</td>\n",
       "      <td>0.0</td>\n",
       "      <td>0.0</td>\n",
       "      <td>0.0</td>\n",
       "      <td>0.0</td>\n",
       "      <td>0.0</td>\n",
       "      <td>0.0</td>\n",
       "      <td>...</td>\n",
       "      <td>0.0</td>\n",
       "      <td>0.0</td>\n",
       "      <td>0.0</td>\n",
       "      <td>0.0</td>\n",
       "      <td>0.0</td>\n",
       "      <td>0.0</td>\n",
       "      <td>0.0</td>\n",
       "      <td>0.0</td>\n",
       "      <td>0.0</td>\n",
       "      <td>0.0</td>\n",
       "    </tr>\n",
       "    <tr>\n",
       "      <th>1</th>\n",
       "      <td>0.0</td>\n",
       "      <td>0.0</td>\n",
       "      <td>0.0</td>\n",
       "      <td>0.0</td>\n",
       "      <td>0.0</td>\n",
       "      <td>0.0</td>\n",
       "      <td>0.0</td>\n",
       "      <td>0.0</td>\n",
       "      <td>0.0</td>\n",
       "      <td>0.0</td>\n",
       "      <td>...</td>\n",
       "      <td>0.0</td>\n",
       "      <td>0.0</td>\n",
       "      <td>0.0</td>\n",
       "      <td>0.0</td>\n",
       "      <td>0.0</td>\n",
       "      <td>0.0</td>\n",
       "      <td>0.0</td>\n",
       "      <td>0.0</td>\n",
       "      <td>0.0</td>\n",
       "      <td>0.0</td>\n",
       "    </tr>\n",
       "    <tr>\n",
       "      <th>2</th>\n",
       "      <td>0.0</td>\n",
       "      <td>0.0</td>\n",
       "      <td>0.0</td>\n",
       "      <td>0.0</td>\n",
       "      <td>0.0</td>\n",
       "      <td>0.0</td>\n",
       "      <td>0.0</td>\n",
       "      <td>0.0</td>\n",
       "      <td>0.0</td>\n",
       "      <td>0.0</td>\n",
       "      <td>...</td>\n",
       "      <td>0.0</td>\n",
       "      <td>0.0</td>\n",
       "      <td>0.0</td>\n",
       "      <td>0.0</td>\n",
       "      <td>0.0</td>\n",
       "      <td>0.0</td>\n",
       "      <td>0.0</td>\n",
       "      <td>0.0</td>\n",
       "      <td>0.0</td>\n",
       "      <td>0.0</td>\n",
       "    </tr>\n",
       "    <tr>\n",
       "      <th>3</th>\n",
       "      <td>0.0</td>\n",
       "      <td>0.0</td>\n",
       "      <td>0.0</td>\n",
       "      <td>0.0</td>\n",
       "      <td>0.0</td>\n",
       "      <td>0.0</td>\n",
       "      <td>0.0</td>\n",
       "      <td>0.0</td>\n",
       "      <td>0.0</td>\n",
       "      <td>0.0</td>\n",
       "      <td>...</td>\n",
       "      <td>0.0</td>\n",
       "      <td>0.0</td>\n",
       "      <td>0.0</td>\n",
       "      <td>0.0</td>\n",
       "      <td>0.0</td>\n",
       "      <td>0.0</td>\n",
       "      <td>0.0</td>\n",
       "      <td>0.0</td>\n",
       "      <td>0.0</td>\n",
       "      <td>0.0</td>\n",
       "    </tr>\n",
       "    <tr>\n",
       "      <th>4</th>\n",
       "      <td>0.0</td>\n",
       "      <td>0.0</td>\n",
       "      <td>0.0</td>\n",
       "      <td>0.0</td>\n",
       "      <td>0.0</td>\n",
       "      <td>0.0</td>\n",
       "      <td>0.0</td>\n",
       "      <td>0.0</td>\n",
       "      <td>0.0</td>\n",
       "      <td>0.0</td>\n",
       "      <td>...</td>\n",
       "      <td>0.0</td>\n",
       "      <td>0.0</td>\n",
       "      <td>0.0</td>\n",
       "      <td>0.0</td>\n",
       "      <td>0.0</td>\n",
       "      <td>0.0</td>\n",
       "      <td>0.0</td>\n",
       "      <td>0.0</td>\n",
       "      <td>0.0</td>\n",
       "      <td>0.0</td>\n",
       "    </tr>\n",
       "  </tbody>\n",
       "</table>\n",
       "<p>5 rows × 3570 columns</p>\n",
       "</div>"
      ],
      "text/plain": [
       "    00   10   11   13   15  15pm   17  20th  2mp   30  ...  yucky  yukon  yum  \\\n",
       "0  0.0  0.0  0.0  0.0  0.0   0.0  0.0   0.0  0.0  0.0  ...    0.0    0.0  0.0   \n",
       "1  0.0  0.0  0.0  0.0  0.0   0.0  0.0   0.0  0.0  0.0  ...    0.0    0.0  0.0   \n",
       "2  0.0  0.0  0.0  0.0  0.0   0.0  0.0   0.0  0.0  0.0  ...    0.0    0.0  0.0   \n",
       "3  0.0  0.0  0.0  0.0  0.0   0.0  0.0   0.0  0.0  0.0  ...    0.0    0.0  0.0   \n",
       "4  0.0  0.0  0.0  0.0  0.0   0.0  0.0   0.0  0.0  0.0  ...    0.0    0.0  0.0   \n",
       "\n",
       "   yummy  yun  z500a  zero  zillion  zombie  zombiez  \n",
       "0    0.0  0.0    0.0   0.0      0.0     0.0      0.0  \n",
       "1    0.0  0.0    0.0   0.0      0.0     0.0      0.0  \n",
       "2    0.0  0.0    0.0   0.0      0.0     0.0      0.0  \n",
       "3    0.0  0.0    0.0   0.0      0.0     0.0      0.0  \n",
       "4    0.0  0.0    0.0   0.0      0.0     0.0      0.0  \n",
       "\n",
       "[5 rows x 3570 columns]"
      ]
     },
     "execution_count": 66,
     "metadata": {},
     "output_type": "execute_result"
    }
   ],
   "source": [
    "pd.DataFrame(A.todense(), columns=counts.get_feature_names_out()).head()"
   ]
  },
  {
   "cell_type": "code",
   "execution_count": null,
   "metadata": {},
   "outputs": [],
   "source": []
  },
  {
   "cell_type": "markdown",
   "metadata": {
    "id": "CXbw_oNdZAHv"
   },
   "source": [
    "## Defining a helper function to show results and charts"
   ]
  },
  {
   "cell_type": "code",
   "execution_count": 68,
   "metadata": {
    "ExecuteTime": {
     "end_time": "2019-06-17T01:35:22.212854Z",
     "start_time": "2019-06-17T01:35:22.040284Z"
    },
    "id": "eJZpD903LcgQ"
   },
   "outputs": [],
   "source": [
    "\n",
    "def show_summary_report(actual, prediction, probabilities):\n",
    "\n",
    "    if isinstance(actual, pd.Series):\n",
    "        actual = actual.values.astype(int)\n",
    "    prediction = prediction.astype(int)\n",
    "\n",
    "    accuracy_ = accuracy_score(actual, prediction)\n",
    "    precision_ = precision_score(actual, prediction)\n",
    "    recall_ = recall_score(actual, prediction)\n",
    "    roc_auc_ = roc_auc_score(actual, probabilities)\n",
    "\n",
    "    print('Accuracy : %.4f [TP / N] Proportion of predicted labels that match the true labels. Best: 1, Worst: 0' % accuracy_)\n",
    "    print('Precision: %.4f [TP / (TP + FP)] Not to label a negative sample as positive.        Best: 1, Worst: 0' % precision_)\n",
    "    print('Recall   : %.4f [TP / (TP + FN)] Find all the positive samples.                     Best: 1, Worst: 0' % recall_)\n",
    "    print('ROC AUC  : %.4f                                                                     Best: 1, Worst: < 0.5' % roc_auc_)\n",
    "    print('-' * 107)\n",
    "    print('TP: True Positives, FP: False Positives, TN: True Negatives, FN: False Negatives, N: Number of samples')\n",
    "\n",
    "    # Confusion Matrix\n",
    "    mat = confusion_matrix(actual, prediction)\n",
    "\n",
    "    # Precision/Recall\n",
    "    precision, recall, _ = precision_recall_curve(actual, probabilities)\n",
    "    average_precision = average_precision_score(actual, probabilities)\n",
    "\n",
    "    # Compute ROC curve and ROC area\n",
    "    fpr, tpr, _ = roc_curve(actual, probabilities)\n",
    "    roc_auc = auc(fpr, tpr)\n",
    "\n",
    "\n",
    "    # plot\n",
    "    fig, ax = plt.subplots(1, 3, figsize = (18, 6))\n",
    "    fig.subplots_adjust(left = 0.02, right = 0.98, wspace = 0.2)\n",
    "\n",
    "    # Confusion Matrix\n",
    "    sns.heatmap(mat.T, square = True, annot = True, fmt = 'd', cbar = False, cmap = 'Blues', ax = ax[0])\n",
    "\n",
    "    ax[0].set_title('Confusion Matrix')\n",
    "    ax[0].set_xlabel('True label')\n",
    "    ax[0].set_ylabel('Predicted label')\n",
    "\n",
    "    # Precision/Recall\n",
    "    step_kwargs = {'step': 'post'}\n",
    "    ax[1].step(recall, precision, color = 'b', alpha = 0.2, where = 'post')\n",
    "    ax[1].fill_between(recall, precision, alpha = 0.2, color = 'b', **step_kwargs)\n",
    "    ax[1].set_ylim([0.0, 1.0])\n",
    "    ax[1].set_xlim([0.0, 1.0])\n",
    "    ax[1].set_xlabel('Recall')\n",
    "    ax[1].set_ylabel('Precision')\n",
    "    ax[1].set_title('2-class Precision-Recall curve')\n",
    "\n",
    "    # ROC\n",
    "    ax[2].plot(fpr, tpr, color = 'darkorange', lw = 2, label = 'ROC curve (AUC = %0.2f)' % roc_auc)\n",
    "    ax[2].plot([0, 1], [0, 1], color = 'navy', lw = 2, linestyle = '--')\n",
    "    ax[2].set_xlim([0.0, 1.0])\n",
    "    ax[2].set_ylim([0.0, 1.0])\n",
    "    ax[2].set_xlabel('False Positive Rate')\n",
    "    ax[2].set_ylabel('True Positive Rate')\n",
    "    ax[2].set_title('Receiver Operating Characteristic')\n",
    "    ax[2].legend(loc = 'lower right')\n",
    "\n",
    "    plt.show()\n",
    "\n",
    "    return (accuracy_, precision_, recall_, roc_auc_)"
   ]
  },
  {
   "cell_type": "markdown",
   "metadata": {
    "id": "O5PTu402Lcgq"
   },
   "source": [
    "## Repeating it all for comparison\n",
    "Repeat the whole lot in one big block using the show_summary_report function.\n",
    "\n",
    "Find 'Accuracy', 'Precision', 'Recall', 'ROC_AUC' using CountVectorizer and TfidfVectorizer and keep the result in a dataframe."
   ]
  },
  {
   "cell_type": "code",
   "execution_count": 71,
   "metadata": {
    "ExecuteTime": {
     "end_time": "2019-06-17T01:37:30.200048Z",
     "start_time": "2019-06-17T01:37:30.197044Z"
    },
    "id": "_98CzdfPLcgq"
   },
   "outputs": [
    {
     "name": "stdout",
     "output_type": "stream",
     "text": [
      "*********\n",
      "* Count *\n",
      "*********\n",
      "Accuracy : 0.7733 [TP / N] Proportion of predicted labels that match the true labels. Best: 1, Worst: 0\n",
      "Precision: 0.7857 [TP / (TP + FP)] Not to label a negative sample as positive.        Best: 1, Worst: 0\n",
      "Recall   : 0.7599 [TP / (TP + FN)] Find all the positive samples.                     Best: 1, Worst: 0\n",
      "ROC AUC  : 0.8728                                                                     Best: 1, Worst: < 0.5\n",
      "-----------------------------------------------------------------------------------------------------------\n",
      "TP: True Positives, FP: False Positives, TN: True Negatives, FN: False Negatives, N: Number of samples\n"
     ]
    },
    {
     "data": {
      "image/png": "[encoded data removed]",
      "text/plain": [
       "<Figure size 1800x600 with 3 Axes>"
      ]
     },
     "metadata": {},
     "output_type": "display_data"
    },
    {
     "name": "stdout",
     "output_type": "stream",
     "text": [
      "**********\n",
      "* TF-IDX *\n",
      "**********\n",
      "Accuracy : 0.7800 [TP / N] Proportion of predicted labels that match the true labels. Best: 1, Worst: 0\n",
      "Precision: 0.7925 [TP / (TP + FP)] Not to label a negative sample as positive.        Best: 1, Worst: 0\n",
      "Recall   : 0.7664 [TP / (TP + FN)] Find all the positive samples.                     Best: 1, Worst: 0\n",
      "ROC AUC  : 0.8820                                                                     Best: 1, Worst: < 0.5\n",
      "-----------------------------------------------------------------------------------------------------------\n",
      "TP: True Positives, FP: False Positives, TN: True Negatives, FN: False Negatives, N: Number of samples\n"
     ]
    },
    {
     "data": {
      "image/png": "[encoded data removed]",
      "text/plain": [
       "<Figure size 1800x600 with 3 Axes>"
      ]
     },
     "metadata": {},
     "output_type": "display_data"
    }
   ],
   "source": [
    "# ANSWER\n",
    "\n",
    "results = pd.DataFrame(columns = ['Model', 'Accuracy', 'Precision', 'Recall', 'ROC_AUC'])\n",
    "\n",
    "models = ['Count', 'TF-IDX']\n",
    "for i, m in enumerate([CountVectorizer(), TfidfVectorizer()]):\n",
    "    print('*' * (len(models[i]) + 4))\n",
    "    print('* %s *' % models[i])\n",
    "    print('*' * (len(models[i]) + 4))\n",
    "\n",
    "   \n",
    "    counts = m\n",
    "    A = counts.fit_transform(X_train, y_train)\n",
    "\n",
    "    classifier = SVC(kernel='linear', probability=True)\n",
    "\n",
    "    classifier.fit(A, y_train)\n",
    "\n",
    "    B = counts.transform(X_test)\n",
    "\n",
    "    predictions = classifier.predict(B)\n",
    "\n",
    "    probabilities = classifier.predict_proba(B)[:, 1]\n",
    "\n",
    "    accuracy_, precision_, recall_, roc_auc_ = show_summary_report(y_test, predictions, probabilities)\n",
    "\n",
    "    results.loc[i] = {'Model': models[i],\n",
    "                      'Accuracy': accuracy_,\n",
    "                      'Precision': precision_,\n",
    "                      'Recall': recall_,\n",
    "                      'ROC_AUC': roc_auc_}"
   ]
  },
  {
   "cell_type": "markdown",
   "metadata": {
    "id": "G4RM_09UDt_r"
   },
   "source": [
    "## Bonus: Sentiment analysis with a pre-trained Large Language Model"
   ]
  },
  {
   "cell_type": "markdown",
   "metadata": {
    "id": "-kt20XkBD3ha"
   },
   "source": [
    "In this section we perform the sentiment analysis using a fine-tuned version of the Distilbert Large Language Model. Distilbert is a lighter-weight modification of BERT (which was developed by Google AI), having 60% as many parameters while maintaining 95% of the performance. The fine tuning is carried out on the SST2 (Stanford Sentiment Treebank v2) dataset (further details at https://huggingface.co/distilbert/distilbert-base-uncased-finetuned-sst-2-english)."
   ]
  },
  {
   "cell_type": "markdown",
   "metadata": {
    "id": "4CnYWgCAD6mX"
   },
   "source": [
    "This model will be accessed via [Hugging Face](https://huggingface.co/). If you have not already done so from Demo 8.4, sign up for a free account at https://huggingface.co/ and then create a new token ('Read' type) via https://huggingface.co/settings/tokens . Copy-paste it into an empty text file called 'hf_token.txt'."
   ]
  },
  {
   "cell_type": "code",
   "execution_count": 79,
   "metadata": {
    "id": "71reen5ID_lG"
   },
   "outputs": [],
   "source": [
    "# import libraries for accessing the Hugging Face model\n",
    "import json\n",
    "import requests"
   ]
  },
  {
   "cell_type": "code",
   "execution_count": 90,
   "metadata": {
    "id": "315Ixg_5EJlO"
   },
   "outputs": [
    {
     "ename": "FileNotFoundError",
     "evalue": "[Errno 2] No such file or directory: 'hf_token.txt'",
     "output_type": "error",
     "traceback": [
      "\u001b[0;31m---------------------------------------------------------------------------\u001b[0m",
      "\u001b[0;31mFileNotFoundError\u001b[0m                         Traceback (most recent call last)",
      "Cell \u001b[0;32mIn[90], line 1\u001b[0m\n\u001b[0;32m----> 1\u001b[0m \u001b[38;5;28;01mwith\u001b[39;00m \u001b[38;5;28mopen\u001b[39m(\u001b[38;5;124mr\u001b[39m\u001b[38;5;124m\"\u001b[39m\u001b[38;5;124mhf_token.txt\u001b[39m\u001b[38;5;124m\"\u001b[39m, \u001b[38;5;124m'\u001b[39m\u001b[38;5;124mr\u001b[39m\u001b[38;5;124m'\u001b[39m) \u001b[38;5;28;01mas\u001b[39;00m file: \u001b[38;5;66;03m# this file contains only the token created via  https://huggingface.co/settings/tokens\u001b[39;00m\n\u001b[1;32m      2\u001b[0m     HUGGINGFACEHUB_API_TOKEN \u001b[38;5;241m=\u001b[39m file\u001b[38;5;241m.\u001b[39mread()\u001b[38;5;241m.\u001b[39mstrip()\n",
      "File \u001b[0;32m/Users/Anaconda3/anaconda3/lib/python3.12/site-packages/IPython/core/interactiveshell.py:324\u001b[0m, in \u001b[0;36m_modified_open\u001b[0;34m(file, *args, **kwargs)\u001b[0m\n\u001b[1;32m    317\u001b[0m \u001b[38;5;28;01mif\u001b[39;00m file \u001b[38;5;129;01min\u001b[39;00m {\u001b[38;5;241m0\u001b[39m, \u001b[38;5;241m1\u001b[39m, \u001b[38;5;241m2\u001b[39m}:\n\u001b[1;32m    318\u001b[0m     \u001b[38;5;28;01mraise\u001b[39;00m \u001b[38;5;167;01mValueError\u001b[39;00m(\n\u001b[1;32m    319\u001b[0m         \u001b[38;5;124mf\u001b[39m\u001b[38;5;124m\"\u001b[39m\u001b[38;5;124mIPython won\u001b[39m\u001b[38;5;124m'\u001b[39m\u001b[38;5;124mt let you open fd=\u001b[39m\u001b[38;5;132;01m{\u001b[39;00mfile\u001b[38;5;132;01m}\u001b[39;00m\u001b[38;5;124m by default \u001b[39m\u001b[38;5;124m\"\u001b[39m\n\u001b[1;32m    320\u001b[0m         \u001b[38;5;124m\"\u001b[39m\u001b[38;5;124mas it is likely to crash IPython. If you know what you are doing, \u001b[39m\u001b[38;5;124m\"\u001b[39m\n\u001b[1;32m    321\u001b[0m         \u001b[38;5;124m\"\u001b[39m\u001b[38;5;124myou can use builtins\u001b[39m\u001b[38;5;124m'\u001b[39m\u001b[38;5;124m open.\u001b[39m\u001b[38;5;124m\"\u001b[39m\n\u001b[1;32m    322\u001b[0m     )\n\u001b[0;32m--> 324\u001b[0m \u001b[38;5;28;01mreturn\u001b[39;00m io_open(file, \u001b[38;5;241m*\u001b[39margs, \u001b[38;5;241m*\u001b[39m\u001b[38;5;241m*\u001b[39mkwargs)\n",
      "\u001b[0;31mFileNotFoundError\u001b[0m: [Errno 2] No such file or directory: 'hf_token.txt'"
     ]
    }
   ],
   "source": [
    "with open(r\"hf_token.txt\", 'r') as file: # this file contains only the token created via  https://huggingface.co/settings/tokens\n",
    "    HUGGINGFACEHUB_API_TOKEN = file.read().strip()"
   ]
  },
  {
   "cell_type": "code",
   "execution_count": null,
   "metadata": {
    "id": "g-icPUV9ENRX"
   },
   "outputs": [],
   "source": [
    "API_URL = \"https://api-inference.huggingface.co/models/distilbert/distilbert-base-uncased-finetuned-sst-2-english\"\n",
    "headers = {\"Authorization\": f\"Bearer {HUGGINGFACEHUB_API_TOKEN}\"}"
   ]
  },
  {
   "cell_type": "markdown",
   "metadata": {
    "id": "SeRqAO9cESV0"
   },
   "source": [
    "The following function makes an API request to the model and returns a response in JSON form."
   ]
  },
  {
   "cell_type": "code",
   "execution_count": null,
   "metadata": {
    "id": "dOMfc73dEXKK"
   },
   "outputs": [],
   "source": [
    "def query(payload):\n",
    "\tresponse = requests.post(API_URL, headers=headers, json=payload)\n",
    "\treturn response.json()"
   ]
  },
  {
   "cell_type": "markdown",
   "metadata": {
    "id": "c1sXVUWHEcN7"
   },
   "source": [
    "Observe the structure of the output when a couple of sentences are applied as inputs:"
   ]
  },
  {
   "cell_type": "code",
   "execution_count": null,
   "metadata": {
    "id": "0gGYTXH5Ef-0"
   },
   "outputs": [],
   "source": [
    "output = query({\n",
    "\t\"inputs\": [\"This is a fantastic product.\", \"No way is this possible!\"]\n",
    "})\n",
    "\n",
    "output # wait for the model to load if an error message appears at first"
   ]
  },
  {
   "cell_type": "markdown",
   "metadata": {
    "id": "d2JffgSDEkdO"
   },
   "source": [
    "The following code extracts the probability of positive predictions:"
   ]
  },
  {
   "cell_type": "code",
   "execution_count": null,
   "metadata": {
    "id": "fGhs-9E0EnIx"
   },
   "outputs": [],
   "source": [
    "[x['score'] if x['label'] == 'POSITIVE' else 1-x['score'] for x in output[0]]"
   ]
  },
  {
   "cell_type": "markdown",
   "metadata": {
    "id": "1Cuslxo5EsaP"
   },
   "source": [
    "Based on this a function is created to take in an output from the LLM and produce arrays of predictions and probabilities:"
   ]
  },
  {
   "cell_type": "code",
   "execution_count": null,
   "metadata": {
    "id": "f6j-A7LlEtEw"
   },
   "outputs": [],
   "source": [
    "def llm_predict(output):\n",
    "    probs = [x['score'] if x['label'] == 'POSITIVE' else 1-x['score'] for x in output[0]]\n",
    "    preds = [round(x) for x in probs]\n",
    "    return np.array(preds), np.array(probs)"
   ]
  },
  {
   "cell_type": "markdown",
   "metadata": {
    "id": "GnetdzfmEw2L"
   },
   "source": [
    "Next we shall evaluate this model on X_test, y_test."
   ]
  },
  {
   "cell_type": "code",
   "execution_count": null,
   "metadata": {
    "id": "FucwupK4EzzX"
   },
   "outputs": [],
   "source": [
    "output = query({\"inputs\": list(X_test.values)})"
   ]
  },
  {
   "cell_type": "markdown",
   "metadata": {
    "id": "mBONnIcBE2tu"
   },
   "source": [
    "Use the above `llm_predict` to calculate predictions and probabilities on `output` and then call the `show_summary_report` function to evaluate the performance on the test set."
   ]
  },
  {
   "cell_type": "code",
   "execution_count": null,
   "metadata": {
    "id": "Mf5uU_XBE7Ef"
   },
   "outputs": [],
   "source": [
    "# ANSWER\n"
   ]
  },
  {
   "cell_type": "markdown",
   "metadata": {
    "id": "xJCGOPHWE9iC"
   },
   "source": [
    "Note that the original pre-cleaned dataset is better suited to the model as it was trained on similar text. Next we evaluate performance on the original dataset."
   ]
  },
  {
   "cell_type": "code",
   "execution_count": null,
   "metadata": {
    "id": "YukKiWk5FA8X"
   },
   "outputs": [],
   "source": [
    "# reload the original merged dataset with 3000 rows and 3 columns, the first row of data should have\n",
    "# Wow... Loved this place. \t1 \tyelp\n",
    "\n",
    "df = #ANSWER"
   ]
  },
  {
   "cell_type": "code",
   "execution_count": null,
   "metadata": {
    "ExecuteTime": {
     "end_time": "2019-06-17T01:30:37.302897Z",
     "start_time": "2019-06-17T01:30:37.299903Z"
    },
    "collapsed": true,
    "id": "-1iAfirTFwiy",
    "jupyter": {
     "outputs_hidden": true
    },
    "outputId": "474633c5-4101-4a38-af3c-e2141f0bfecd"
   },
   "outputs": [
    {
     "data": {
      "text/html": [
       "<div>\n",
       "<style scoped>\n",
       "    .dataframe tbody tr th:only-of-type {\n",
       "        vertical-align: middle;\n",
       "    }\n",
       "\n",
       "    .dataframe tbody tr th {\n",
       "        vertical-align: top;\n",
       "    }\n",
       "\n",
       "    .dataframe thead th {\n",
       "        text-align: right;\n",
       "    }\n",
       "</style>\n",
       "<table border=\"1\" class=\"dataframe\">\n",
       "  <thead>\n",
       "    <tr style=\"text-align: right;\">\n",
       "      <th></th>\n",
       "      <th>text</th>\n",
       "      <th>sentiment</th>\n",
       "      <th>source</th>\n",
       "    </tr>\n",
       "  </thead>\n",
       "  <tbody>\n",
       "    <tr>\n",
       "      <th>0</th>\n",
       "      <td>Wow... Loved this place.</td>\n",
       "      <td>1</td>\n",
       "      <td>yelp</td>\n",
       "    </tr>\n",
       "    <tr>\n",
       "      <th>1</th>\n",
       "      <td>Crust is not good.</td>\n",
       "      <td>0</td>\n",
       "      <td>yelp</td>\n",
       "    </tr>\n",
       "    <tr>\n",
       "      <th>2</th>\n",
       "      <td>Not tasty and the texture was just nasty.</td>\n",
       "      <td>0</td>\n",
       "      <td>yelp</td>\n",
       "    </tr>\n",
       "    <tr>\n",
       "      <th>3</th>\n",
       "      <td>Stopped by during the late May bank holiday of...</td>\n",
       "      <td>1</td>\n",
       "      <td>yelp</td>\n",
       "    </tr>\n",
       "    <tr>\n",
       "      <th>4</th>\n",
       "      <td>The selection on the menu was great and so wer...</td>\n",
       "      <td>1</td>\n",
       "      <td>yelp</td>\n",
       "    </tr>\n",
       "    <tr>\n",
       "      <th>...</th>\n",
       "      <td>...</td>\n",
       "      <td>...</td>\n",
       "      <td>...</td>\n",
       "    </tr>\n",
       "    <tr>\n",
       "      <th>2995</th>\n",
       "      <td>The screen does get smudged easily because it ...</td>\n",
       "      <td>0</td>\n",
       "      <td>amazon</td>\n",
       "    </tr>\n",
       "    <tr>\n",
       "      <th>2996</th>\n",
       "      <td>What a piece of junk.. I lose more calls on th...</td>\n",
       "      <td>0</td>\n",
       "      <td>amazon</td>\n",
       "    </tr>\n",
       "    <tr>\n",
       "      <th>2997</th>\n",
       "      <td>Item Does Not Match Picture.</td>\n",
       "      <td>0</td>\n",
       "      <td>amazon</td>\n",
       "    </tr>\n",
       "    <tr>\n",
       "      <th>2998</th>\n",
       "      <td>The only thing that disappoint me is the infra...</td>\n",
       "      <td>0</td>\n",
       "      <td>amazon</td>\n",
       "    </tr>\n",
       "    <tr>\n",
       "      <th>2999</th>\n",
       "      <td>You can not answer calls with the unit, never ...</td>\n",
       "      <td>0</td>\n",
       "      <td>amazon</td>\n",
       "    </tr>\n",
       "  </tbody>\n",
       "</table>\n",
       "<p>3000 rows × 3 columns</p>\n",
       "</div>"
      ],
      "text/plain": [
       "                                                   text  sentiment  source\n",
       "0                              Wow... Loved this place.          1    yelp\n",
       "1                                    Crust is not good.          0    yelp\n",
       "2             Not tasty and the texture was just nasty.          0    yelp\n",
       "3     Stopped by during the late May bank holiday of...          1    yelp\n",
       "4     The selection on the menu was great and so wer...          1    yelp\n",
       "...                                                 ...        ...     ...\n",
       "2995  The screen does get smudged easily because it ...          0  amazon\n",
       "2996  What a piece of junk.. I lose more calls on th...          0  amazon\n",
       "2997                       Item Does Not Match Picture.          0  amazon\n",
       "2998  The only thing that disappoint me is the infra...          0  amazon\n",
       "2999  You can not answer calls with the unit, never ...          0  amazon\n",
       "\n",
       "[3000 rows x 3 columns]"
      ]
     },
     "execution_count": 5,
     "metadata": {},
     "output_type": "execute_result"
    }
   ],
   "source": [
    "df.head()"
   ]
  },
  {
   "cell_type": "markdown",
   "metadata": {
    "id": "nV-Au8_8GmWm"
   },
   "source": [
    "Find the sentiment scores for the text of df:"
   ]
  },
  {
   "cell_type": "code",
   "execution_count": null,
   "metadata": {
    "id": "a_khPosSGtsh"
   },
   "outputs": [],
   "source": [
    "output = query({\"inputs\": list(df['text'].values)})"
   ]
  },
  {
   "cell_type": "markdown",
   "metadata": {
    "id": "dPX76zMUG0Bt"
   },
   "source": [
    "Similar to above, use the `llm_predict` function on this output and then call `show_summary_report` to find how the LLM performs on the original dataset."
   ]
  },
  {
   "cell_type": "code",
   "execution_count": null,
   "metadata": {
    "id": "7XzSADgvFEKM"
   },
   "outputs": [],
   "source": [
    "# ANSWER"
   ]
  },
  {
   "cell_type": "markdown",
   "metadata": {
    "id": "RVeIhdCNG71D"
   },
   "source": [
    "You should find that results are significantly better here."
   ]
  },
  {
   "cell_type": "markdown",
   "metadata": {
    "id": "GS42WvWEG9WR"
   },
   "source": [
    "## Summary\n",
    "\n",
    "Sentiment analysis models were developed using both a count vectoriser and TF-IDF vectoriser to extract numerical features, trained on reviews text data using a support vector classifier. Their performances were evaluated and later compared to that of a Large Language Model."
   ]
  },
  {
   "cell_type": "markdown",
   "metadata": {
    "id": "RERADKgNFq9T"
   },
   "source": [
    "\n",
    "\n",
    "---\n",
    "\n",
    "\n",
    "\n",
    "---\n",
    "\n",
    "\n",
    "\n",
    "> > > > > > > > > © 2025 Institute of Data\n",
    "\n",
    "\n",
    "---\n",
    "\n",
    "\n",
    "\n",
    "---\n",
    "\n",
    "\n",
    "\n"
   ]
  }
 ],
 "metadata": {
  "colab": {
   "provenance": []
  },
  "kernelspec": {
   "display_name": "Python [conda env:base] *",
   "language": "python",
   "name": "conda-base-py"
  },
  "language_info": {
   "codemirror_mode": {
    "name": "ipython",
    "version": 3
   },
   "file_extension": ".py",
   "mimetype": "text/x-python",
   "name": "python",
   "nbconvert_exporter": "python",
   "pygments_lexer": "ipython3",
   "version": "3.12.7"
  },
  "varInspector": {
   "cols": {
    "lenName": 16,
    "lenType": 16,
    "lenVar": 40
   },
   "kernels_config": {
    "python": {
     "delete_cmd_postfix": "",
     "delete_cmd_prefix": "del ",
     "library": "var_list.py",
     "varRefreshCmd": "print(var_dic_list())"
    },
    "r": {
     "delete_cmd_postfix": ") ",
     "delete_cmd_prefix": "rm(",
     "library": "var_list.r",
     "varRefreshCmd": "cat(var_dic_list()) "
    }
   },
   "types_to_exclude": [
    "module",
    "function",
    "builtin_function_or_method",
    "instance",
    "_Feature"
   ],
   "window_display": false
  }
 },
 "nbformat": 4,
 "nbformat_minor": 4
}
